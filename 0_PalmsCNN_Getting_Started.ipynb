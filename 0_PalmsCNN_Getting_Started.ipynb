{
 "cells": [
  {
   "cell_type": "markdown",
   "metadata": {},
   "source": [
    "# Iniciar en colab"
   ]
  },
  {
   "cell_type": "markdown",
   "metadata": {},
   "source": [
    "## Cargar repositorio en Colab\n",
    "[Abrir cuaderno en Google Colab](https://colab.research.google.com/github/iiap-gob-pe/PalmsCNN/blob/main/1.PalmsCNN_Tutorial_Google_Colab.ipynb)"
   ]
  },
  {
   "cell_type": "code",
   "execution_count": null,
   "metadata": {
    "vscode": {
     "languageId": "plaintext"
    }
   },
   "outputs": [],
   "source": [
    "!git clone https://github.com/iiap-gob-pe/PalmsCNN.git\n",
    "!mv PalmsCNN/* .\n",
    "!mv PalmsCNN/.* .\n",
    "!rm -rf PalmsCNN"
   ]
  },
  {
   "cell_type": "code",
   "execution_count": null,
   "metadata": {
    "vscode": {
     "languageId": "plaintext"
    }
   },
   "outputs": [],
   "source": [
    "import yaml\n",
    "\n",
    "# Lee el archivo environment.yml\n",
    "with open('environment.yml', 'r') as file:\n",
    "    env_data = yaml.safe_load(file)\n",
    "\n",
    "# Extrae las dependencias\n",
    "dependencies = env_data.get('dependencies', [])\n",
    "\n",
    "# Instala las dependencias\n",
    "for package in dependencies:\n",
    "    if isinstance(package, str):  # Dependencias de Conda\n",
    "        if '=' in package:  # Si tiene una versión específica\n",
    "            !pip install {package}\n",
    "        else:\n",
    "            !pip install {package}\n",
    "    elif isinstance(package, dict) and 'pip' in package:  # Dependencias de Pip\n",
    "        for pip_package in package['pip']:\n",
    "            !pip install {pip_package}"
   ]
  }
 ],
 "metadata": {
  "language_info": {
   "name": "python"
  }
 },
 "nbformat": 4,
 "nbformat_minor": 2
}
