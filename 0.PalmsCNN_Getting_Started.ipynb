{
 "cells": [
  {
   "cell_type": "markdown",
   "metadata": {},
   "source": [
    "# Iniciar en colab"
   ]
  },
  {
   "cell_type": "markdown",
   "metadata": {},
   "source": [
    "## Cargar repositorio en Colab\n",
    "[Abrir cuaderno en Google Colab]([https://](https://colab.research.google.com/github/iiap-gob-pe/PalmsCNN/blob/main/0.PalmsCNN_Getting_Started.ipynb))"
   ]
  },
  {
   "cell_type": "code",
   "execution_count": null,
   "metadata": {
    "vscode": {
     "languageId": "plaintext"
    }
   },
   "outputs": [],
   "source": [
    "## Configurar Git en Colab\n",
    "!git config --global user.name \"tu-nombre-de-usuario\"\n",
    "!git config --global user.email \"tu-correo@ejemplo.com\" "
   ]
  },
  {
   "cell_type": "code",
   "execution_count": null,
   "metadata": {
    "vscode": {
     "languageId": "plaintext"
    }
   },
   "outputs": [],
   "source": [
    "!git clone https://github.com/tu-usuario/PalmsCNN.git\n",
    "cd PalmsCNN"
   ]
  },
  {
   "cell_type": "code",
   "execution_count": null,
   "metadata": {
    "vscode": {
     "languageId": "plaintext"
    }
   },
   "outputs": [],
   "source": [
    "import yaml\n",
    "\n",
    "# Lee el archivo environment.yml\n",
    "with open('environment.yml', 'r') as file:\n",
    "    env_data = yaml.safe_load(file)\n",
    "\n",
    "# Extrae las dependencias\n",
    "dependencies = env_data.get('dependencies', [])\n",
    "\n",
    "# Instala las dependencias\n",
    "for package in dependencies:\n",
    "    if isinstance(package, str):  # Dependencias de Conda\n",
    "        if '=' in package:  # Si tiene una versión específica\n",
    "            !pip install {package}\n",
    "        else:\n",
    "            !pip install {package}\n",
    "    elif isinstance(package, dict) and 'pip' in package:  # Dependencias de Pip\n",
    "        for pip_package in package['pip']:\n",
    "            !pip install {pip_package}"
   ]
  }
 ],
 "metadata": {
  "language_info": {
   "name": "python"
  }
 },
 "nbformat": 4,
 "nbformat_minor": 2
}
